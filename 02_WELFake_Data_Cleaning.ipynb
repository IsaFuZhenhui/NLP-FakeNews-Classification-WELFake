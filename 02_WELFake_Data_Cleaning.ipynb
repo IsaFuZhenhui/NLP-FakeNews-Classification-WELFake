{
 "cells": [
  {
   "cell_type": "markdown",
   "id": "5ccf1f40",
   "metadata": {},
   "source": [
    "# 02 Data Cleaning\n",
    "**Author:** Fu Zhenhui  \n",
    "**Input:** WELFake_EnglishOnly.csv  \n",
    "**Output:** WELFake_Cleaned.csv  \n",
    "**Last updated:** June 2025"
   ]
  },
  {
   "cell_type": "code",
   "execution_count": 2,
   "id": "4bac4f18",
   "metadata": {},
   "outputs": [],
   "source": [
    "import pandas as pd"
   ]
  },
  {
   "cell_type": "markdown",
   "id": "1d4f3fa6",
   "metadata": {},
   "source": [
    "## Load Dataset"
   ]
  },
  {
   "cell_type": "code",
   "execution_count": 3,
   "id": "91285a4d",
   "metadata": {},
   "outputs": [
    {
     "data": {
      "text/html": [
       "<div>\n",
       "<style scoped>\n",
       "    .dataframe tbody tr th:only-of-type {\n",
       "        vertical-align: middle;\n",
       "    }\n",
       "\n",
       "    .dataframe tbody tr th {\n",
       "        vertical-align: top;\n",
       "    }\n",
       "\n",
       "    .dataframe thead th {\n",
       "        text-align: right;\n",
       "    }\n",
       "</style>\n",
       "<table border=\"1\" class=\"dataframe\">\n",
       "  <thead>\n",
       "    <tr style=\"text-align: right;\">\n",
       "      <th></th>\n",
       "      <th>title</th>\n",
       "      <th>text</th>\n",
       "      <th>label</th>\n",
       "    </tr>\n",
       "  </thead>\n",
       "  <tbody>\n",
       "    <tr>\n",
       "      <th>0</th>\n",
       "      <td>LAW ENFORCEMENT ON HIGH ALERT Following Threat...</td>\n",
       "      <td>No comment is expected from Barack Obama Membe...</td>\n",
       "      <td>1</td>\n",
       "    </tr>\n",
       "    <tr>\n",
       "      <th>1</th>\n",
       "      <td>UNBELIEVABLE! OBAMA’S ATTORNEY GENERAL SAYS MO...</td>\n",
       "      <td>Now, most of the demonstrators gathered last ...</td>\n",
       "      <td>1</td>\n",
       "    </tr>\n",
       "    <tr>\n",
       "      <th>2</th>\n",
       "      <td>Bobby Jindal, raised Hindu, uses story of Chri...</td>\n",
       "      <td>A dozen politically active pastors came here f...</td>\n",
       "      <td>0</td>\n",
       "    </tr>\n",
       "    <tr>\n",
       "      <th>3</th>\n",
       "      <td>SATAN 2: Russia unvelis an image of its terrif...</td>\n",
       "      <td>The RS-28 Sarmat missile, dubbed Satan 2, will...</td>\n",
       "      <td>1</td>\n",
       "    </tr>\n",
       "    <tr>\n",
       "      <th>4</th>\n",
       "      <td>About Time! Christian Group Sues Amazon and SP...</td>\n",
       "      <td>All we can say on this one is it s about time ...</td>\n",
       "      <td>1</td>\n",
       "    </tr>\n",
       "    <tr>\n",
       "      <th>...</th>\n",
       "      <td>...</td>\n",
       "      <td>...</td>\n",
       "      <td>...</td>\n",
       "    </tr>\n",
       "    <tr>\n",
       "      <th>68067</th>\n",
       "      <td>Russians steal research on Trump in hack of U....</td>\n",
       "      <td>WASHINGTON (Reuters) - Hackers believed to be ...</td>\n",
       "      <td>0</td>\n",
       "    </tr>\n",
       "    <tr>\n",
       "      <th>68068</th>\n",
       "      <td>WATCH: Giuliani Demands That Democrats Apolog...</td>\n",
       "      <td>You know, because in fantasyland Republicans n...</td>\n",
       "      <td>1</td>\n",
       "    </tr>\n",
       "    <tr>\n",
       "      <th>68069</th>\n",
       "      <td>Migrants Refuse To Leave Train At Refugee Camp...</td>\n",
       "      <td>Migrants Refuse To Leave Train At Refugee Camp...</td>\n",
       "      <td>0</td>\n",
       "    </tr>\n",
       "    <tr>\n",
       "      <th>68070</th>\n",
       "      <td>Trump tussle gives unpopular Mexican leader mu...</td>\n",
       "      <td>MEXICO CITY (Reuters) - Donald Trump’s combati...</td>\n",
       "      <td>0</td>\n",
       "    </tr>\n",
       "    <tr>\n",
       "      <th>68071</th>\n",
       "      <td>Goldman Sachs Endorses Hillary Clinton For Pre...</td>\n",
       "      <td>Goldman Sachs Endorses Hillary Clinton For Pre...</td>\n",
       "      <td>1</td>\n",
       "    </tr>\n",
       "  </tbody>\n",
       "</table>\n",
       "<p>68072 rows × 3 columns</p>\n",
       "</div>"
      ],
      "text/plain": [
       "                                                   title  \\\n",
       "0      LAW ENFORCEMENT ON HIGH ALERT Following Threat...   \n",
       "1      UNBELIEVABLE! OBAMA’S ATTORNEY GENERAL SAYS MO...   \n",
       "2      Bobby Jindal, raised Hindu, uses story of Chri...   \n",
       "3      SATAN 2: Russia unvelis an image of its terrif...   \n",
       "4      About Time! Christian Group Sues Amazon and SP...   \n",
       "...                                                  ...   \n",
       "68067  Russians steal research on Trump in hack of U....   \n",
       "68068   WATCH: Giuliani Demands That Democrats Apolog...   \n",
       "68069  Migrants Refuse To Leave Train At Refugee Camp...   \n",
       "68070  Trump tussle gives unpopular Mexican leader mu...   \n",
       "68071  Goldman Sachs Endorses Hillary Clinton For Pre...   \n",
       "\n",
       "                                                    text  label  \n",
       "0      No comment is expected from Barack Obama Membe...      1  \n",
       "1       Now, most of the demonstrators gathered last ...      1  \n",
       "2      A dozen politically active pastors came here f...      0  \n",
       "3      The RS-28 Sarmat missile, dubbed Satan 2, will...      1  \n",
       "4      All we can say on this one is it s about time ...      1  \n",
       "...                                                  ...    ...  \n",
       "68067  WASHINGTON (Reuters) - Hackers believed to be ...      0  \n",
       "68068  You know, because in fantasyland Republicans n...      1  \n",
       "68069  Migrants Refuse To Leave Train At Refugee Camp...      0  \n",
       "68070  MEXICO CITY (Reuters) - Donald Trump’s combati...      0  \n",
       "68071  Goldman Sachs Endorses Hillary Clinton For Pre...      1  \n",
       "\n",
       "[68072 rows x 3 columns]"
      ]
     },
     "execution_count": 3,
     "metadata": {},
     "output_type": "execute_result"
    }
   ],
   "source": [
    "df = pd.read_csv(\"WELFake_EnglishOnly.csv\")\n",
    "df"
   ]
  },
  {
   "cell_type": "code",
   "execution_count": 4,
   "id": "d3705c47",
   "metadata": {},
   "outputs": [
    {
     "data": {
      "text/plain": [
       "label\n",
       "0    34052\n",
       "1    34020\n",
       "Name: count, dtype: int64"
      ]
     },
     "execution_count": 4,
     "metadata": {},
     "output_type": "execute_result"
    }
   ],
   "source": [
    "df[\"label\"].value_counts()\n",
    "# 0 = fake, 1 = real"
   ]
  },
  {
   "cell_type": "code",
   "execution_count": 5,
   "id": "ce1dfda2",
   "metadata": {},
   "outputs": [
    {
     "data": {
      "text/html": [
       "<div>\n",
       "<style scoped>\n",
       "    .dataframe tbody tr th:only-of-type {\n",
       "        vertical-align: middle;\n",
       "    }\n",
       "\n",
       "    .dataframe tbody tr th {\n",
       "        vertical-align: top;\n",
       "    }\n",
       "\n",
       "    .dataframe thead th {\n",
       "        text-align: right;\n",
       "    }\n",
       "</style>\n",
       "<table border=\"1\" class=\"dataframe\">\n",
       "  <thead>\n",
       "    <tr style=\"text-align: right;\">\n",
       "      <th></th>\n",
       "      <th>title</th>\n",
       "      <th>text</th>\n",
       "      <th>label</th>\n",
       "    </tr>\n",
       "  </thead>\n",
       "  <tbody>\n",
       "    <tr>\n",
       "      <th>column type</th>\n",
       "      <td>object</td>\n",
       "      <td>object</td>\n",
       "      <td>int64</td>\n",
       "    </tr>\n",
       "    <tr>\n",
       "      <th>null values (nb)</th>\n",
       "      <td>0</td>\n",
       "      <td>0</td>\n",
       "      <td>0</td>\n",
       "    </tr>\n",
       "    <tr>\n",
       "      <th>null values (%)</th>\n",
       "      <td>0.0</td>\n",
       "      <td>0.0</td>\n",
       "      <td>0.0</td>\n",
       "    </tr>\n",
       "  </tbody>\n",
       "</table>\n",
       "</div>"
      ],
      "text/plain": [
       "                   title    text  label\n",
       "column type       object  object  int64\n",
       "null values (nb)       0       0      0\n",
       "null values (%)      0.0     0.0    0.0"
      ]
     },
     "execution_count": 5,
     "metadata": {},
     "output_type": "execute_result"
    }
   ],
   "source": [
    "# Display the summary table\n",
    "tab_info = pd.DataFrame(df.dtypes).T.rename(index={0: \"column type\"})\n",
    "tab_info = tab_info._append(pd.DataFrame(df.isnull().sum()).T.rename(index={0: \"null values (nb)\"}))\n",
    "tab_info = tab_info._append(pd.DataFrame((df.isnull().sum()/df.shape[0])*100).T.rename(index={0: \"null values (%)\"}))\n",
    "tab_info"
   ]
  },
  {
   "cell_type": "markdown",
   "id": "7b777813",
   "metadata": {},
   "source": [
    "## Remove ALL Leading/Trailing Whitespace (spaces, tabs, \\r, \\n, etc.)"
   ]
  },
  {
   "cell_type": "code",
   "execution_count": 6,
   "id": "abf8528f",
   "metadata": {},
   "outputs": [],
   "source": [
    "df[\"title\"] = df[\"title\"].str.strip()"
   ]
  },
  {
   "cell_type": "code",
   "execution_count": null,
   "id": "af7a17f6",
   "metadata": {},
   "outputs": [],
   "source": []
  },
  {
   "cell_type": "markdown",
   "id": "0bbea3ff",
   "metadata": {},
   "source": [
    "## ❓Check for Duplicates in the \"text\" Column"
   ]
  },
  {
   "cell_type": "code",
   "execution_count": 7,
   "id": "2403f6d8",
   "metadata": {},
   "outputs": [
    {
     "name": "stdout",
     "output_type": "stream",
     "text": [
      "Total rows:       68072\n",
      "Unique 'text'     59904\n",
      "Duplicate rows:   8168\n"
     ]
    }
   ],
   "source": [
    "# Count how many rows have duplicate “text” values (including the first occurrences)\n",
    "num_total_text = df.shape[0]\n",
    "num_unique_text = df[\"text\"].nunique(dropna=False) \n",
    "num_duplicates_text = num_total_text - num_unique_text\n",
    "\n",
    "print(f\"Total rows:       {num_total_text}\")\n",
    "print(f\"Unique 'text'     {num_unique_text}\")\n",
    "print(f\"Duplicate rows:   {num_duplicates_text}\")"
   ]
  },
  {
   "cell_type": "markdown",
   "id": "72c20300",
   "metadata": {},
   "source": [
    "## ✂️Remove Duplicates Based on `text` by Keeping the Longest `title`\n",
    "> For each duplicated text, keep the row whose `title` is the most **informative**."
   ]
  },
  {
   "cell_type": "code",
   "execution_count": 8,
   "id": "d019df8c",
   "metadata": {},
   "outputs": [
    {
     "name": "stdout",
     "output_type": "stream",
     "text": [
      "Rows after keeping longest title per duplicate text: 59904\n"
     ]
    }
   ],
   "source": [
    "# Compute the length of each title\n",
    "title_lengths = df['title'].str.len()\n",
    "\n",
    "# For each unique text, find the index of the row whose title is longest\n",
    "longest_per_text = title_lengths.groupby(df[\"text\"]).idxmax()\n",
    "\n",
    "# Select and reset index\n",
    "df = df.loc[longest_per_text].reset_index(drop=True)\n",
    "\n",
    "print(f\"Rows after keeping longest title per duplicate text: {df.shape[0]}\")"
   ]
  },
  {
   "cell_type": "code",
   "execution_count": 9,
   "id": "71f75e28",
   "metadata": {},
   "outputs": [],
   "source": [
    "assert df.shape[0] == df['text'].nunique()"
   ]
  },
  {
   "cell_type": "code",
   "execution_count": 10,
   "id": "ab9e03f2",
   "metadata": {},
   "outputs": [
    {
     "data": {
      "text/plain": [
       "label\n",
       "0    33683\n",
       "1    26221\n",
       "Name: count, dtype: int64"
      ]
     },
     "execution_count": 10,
     "metadata": {},
     "output_type": "execute_result"
    }
   ],
   "source": [
    "df[\"label\"].value_counts()\n",
    "# 0 = fake, 1 = real"
   ]
  },
  {
   "cell_type": "markdown",
   "id": "2cbdaef3",
   "metadata": {},
   "source": [
    "## ❓Check for Duplicates in the \"title\" Column"
   ]
  },
  {
   "cell_type": "code",
   "execution_count": 11,
   "id": "3a391d0f",
   "metadata": {},
   "outputs": [
    {
     "name": "stdout",
     "output_type": "stream",
     "text": [
      "Total rows:          59904\n",
      "Unique 'title' count: 59144\n",
      "Duplicate rows:      760\n"
     ]
    }
   ],
   "source": [
    "# Count how many rows have duplicate “title” values (including the first occurrences)\n",
    "num_total_title   = df.shape[0]\n",
    "num_unique_title  = df[\"title\"].nunique(dropna=False)\n",
    "num_duplicates_title = num_total_title - num_unique_title\n",
    "\n",
    "print(f\"Total rows:          {num_total_title}\")\n",
    "print(f\"Unique 'title' count: {num_unique_title}\")\n",
    "print(f\"Duplicate rows:      {num_duplicates_title}\")"
   ]
  },
  {
   "cell_type": "code",
   "execution_count": 12,
   "id": "9fd07a32",
   "metadata": {},
   "outputs": [
    {
     "name": "stdout",
     "output_type": "stream",
     "text": [
      "Number of rows flagged as duplicates in 'title' (excluding first): 760\n",
      "Sample of duplicate rows in 'title' (excluding first occurrences):\n"
     ]
    },
    {
     "data": {
      "text/html": [
       "<div>\n",
       "<style scoped>\n",
       "    .dataframe tbody tr th:only-of-type {\n",
       "        vertical-align: middle;\n",
       "    }\n",
       "\n",
       "    .dataframe tbody tr th {\n",
       "        vertical-align: top;\n",
       "    }\n",
       "\n",
       "    .dataframe thead th {\n",
       "        text-align: right;\n",
       "    }\n",
       "</style>\n",
       "<table border=\"1\" class=\"dataframe\">\n",
       "  <thead>\n",
       "    <tr style=\"text-align: right;\">\n",
       "      <th></th>\n",
       "      <th>title</th>\n",
       "      <th>text</th>\n",
       "      <th>label</th>\n",
       "    </tr>\n",
       "  </thead>\n",
       "  <tbody>\n",
       "    <tr>\n",
       "      <th>299</th>\n",
       "      <td>Turkish Disinfo: Daesh terrorist leader Baghda...</td>\n",
       "      <td>Ian Greenhalgh is a photographer and histori...</td>\n",
       "      <td>1</td>\n",
       "    </tr>\n",
       "    <tr>\n",
       "      <th>531</th>\n",
       "      <td>Exclusive: Trump names career diplomat to head...</td>\n",
       "      <td>((This December 4 story has been corrected to...</td>\n",
       "      <td>0</td>\n",
       "    </tr>\n",
       "    <tr>\n",
       "      <th>548</th>\n",
       "      <td>Cuba tells U.S. suspension of visas is hurting...</td>\n",
       "      <td>(Corrects paragraph 7 to show Trump issued a ...</td>\n",
       "      <td>0</td>\n",
       "    </tr>\n",
       "    <tr>\n",
       "      <th>707</th>\n",
       "      <td>Prof Michel Chossudovsky discusses Hillary Cli...</td>\n",
       "      <td>21st Century Wire says…  Amid great mainstrea...</td>\n",
       "      <td>1</td>\n",
       "    </tr>\n",
       "    <tr>\n",
       "      <th>710</th>\n",
       "      <td>Mexico’s Richest Oligarch Loses Billions on Ne...</td>\n",
       "      <td>21st Century Wire says…  Mexico’s billionaire...</td>\n",
       "      <td>1</td>\n",
       "    </tr>\n",
       "    <tr>\n",
       "      <th>713</th>\n",
       "      <td>Hillary Clinton Jumps the Shark with ‘Trump’s ...</td>\n",
       "      <td>21st Century Wire says…  Yesterday, WikiLeaks...</td>\n",
       "      <td>1</td>\n",
       "    </tr>\n",
       "    <tr>\n",
       "      <th>978</th>\n",
       "      <td>FORMER FBI ASST DIRECTOR: “Jim Comey ‘Danced W...</td>\n",
       "      <td>He threw the reputation of the FBI under the ...</td>\n",
       "      <td>1</td>\n",
       "    </tr>\n",
       "    <tr>\n",
       "      <th>1736</th>\n",
       "      <td>\"Top Five Clinton Donors Are Jewish\" - How Ant...</td>\n",
       "      <td>\"Top Five Clinton Donors Are Jewish\" - How Ant...</td>\n",
       "      <td>1</td>\n",
       "    </tr>\n",
       "    <tr>\n",
       "      <th>1792</th>\n",
       "      <td>Public vs. Media on War</td>\n",
       "      <td>(128 fans) - Advertisement -  A new poll from ...</td>\n",
       "      <td>1</td>\n",
       "    </tr>\n",
       "    <tr>\n",
       "      <th>1793</th>\n",
       "      <td>Michael Moore Owes Me $4.99</td>\n",
       "      <td>(128 fans) - Advertisement -  Michael Moore ha...</td>\n",
       "      <td>1</td>\n",
       "    </tr>\n",
       "  </tbody>\n",
       "</table>\n",
       "</div>"
      ],
      "text/plain": [
       "                                                  title  \\\n",
       "299   Turkish Disinfo: Daesh terrorist leader Baghda...   \n",
       "531   Exclusive: Trump names career diplomat to head...   \n",
       "548   Cuba tells U.S. suspension of visas is hurting...   \n",
       "707   Prof Michel Chossudovsky discusses Hillary Cli...   \n",
       "710   Mexico’s Richest Oligarch Loses Billions on Ne...   \n",
       "713   Hillary Clinton Jumps the Shark with ‘Trump’s ...   \n",
       "978   FORMER FBI ASST DIRECTOR: “Jim Comey ‘Danced W...   \n",
       "1736  \"Top Five Clinton Donors Are Jewish\" - How Ant...   \n",
       "1792                            Public vs. Media on War   \n",
       "1793                        Michael Moore Owes Me $4.99   \n",
       "\n",
       "                                                   text  label  \n",
       "299     Ian Greenhalgh is a photographer and histori...      1  \n",
       "531    ((This December 4 story has been corrected to...      0  \n",
       "548    (Corrects paragraph 7 to show Trump issued a ...      0  \n",
       "707    21st Century Wire says…  Amid great mainstrea...      1  \n",
       "710    21st Century Wire says…  Mexico’s billionaire...      1  \n",
       "713    21st Century Wire says…  Yesterday, WikiLeaks...      1  \n",
       "978    He threw the reputation of the FBI under the ...      1  \n",
       "1736  \"Top Five Clinton Donors Are Jewish\" - How Ant...      1  \n",
       "1792  (128 fans) - Advertisement -  A new poll from ...      1  \n",
       "1793  (128 fans) - Advertisement -  Michael Moore ha...      1  "
      ]
     },
     "execution_count": 12,
     "metadata": {},
     "output_type": "execute_result"
    }
   ],
   "source": [
    "dup_mask_title = df[\"title\"].duplicated(keep=\"first\")\n",
    "print(f\"Number of rows flagged as duplicates in 'title' (excluding first): {dup_mask_title.sum()}\")\n",
    "\n",
    "sample_title_dups = df[dup_mask_title].head(10)\n",
    "print(\"Sample of duplicate rows in 'title' (excluding first occurrences):\")\n",
    "sample_title_dups"
   ]
  },
  {
   "cell_type": "markdown",
   "id": "f5b306e2",
   "metadata": {},
   "source": [
    "🔍 **Observation**\n",
    "- Now that all exact-`text` duplicates are gone, we have 760 duplicate `title` entries. "
   ]
  },
  {
   "cell_type": "markdown",
   "id": "c6f4a700",
   "metadata": {},
   "source": [
    "### *One example of \"title\" duplicate*:"
   ]
  },
  {
   "cell_type": "code",
   "execution_count": 13,
   "id": "0721e7a0",
   "metadata": {},
   "outputs": [
    {
     "data": {
      "text/plain": [
       "'Exclusive: Trump names career diplomat to head Cuban embassy - sources'"
      ]
     },
     "execution_count": 13,
     "metadata": {},
     "output_type": "execute_result"
    }
   ],
   "source": [
    "sample_title_dups[\"title\"].iloc[1]"
   ]
  },
  {
   "cell_type": "code",
   "execution_count": 14,
   "id": "135daf16",
   "metadata": {},
   "outputs": [
    {
     "data": {
      "text/html": [
       "<div>\n",
       "<style scoped>\n",
       "    .dataframe tbody tr th:only-of-type {\n",
       "        vertical-align: middle;\n",
       "    }\n",
       "\n",
       "    .dataframe tbody tr th {\n",
       "        vertical-align: top;\n",
       "    }\n",
       "\n",
       "    .dataframe thead th {\n",
       "        text-align: right;\n",
       "    }\n",
       "</style>\n",
       "<table border=\"1\" class=\"dataframe\">\n",
       "  <thead>\n",
       "    <tr style=\"text-align: right;\">\n",
       "      <th></th>\n",
       "      <th>title</th>\n",
       "      <th>text</th>\n",
       "      <th>label</th>\n",
       "    </tr>\n",
       "  </thead>\n",
       "  <tbody>\n",
       "    <tr>\n",
       "      <th>530</th>\n",
       "      <td>Exclusive: Trump names career diplomat to head...</td>\n",
       "      <td>((This December 4 story has been corrected to...</td>\n",
       "      <td>0</td>\n",
       "    </tr>\n",
       "    <tr>\n",
       "      <th>531</th>\n",
       "      <td>Exclusive: Trump names career diplomat to head...</td>\n",
       "      <td>((This December 4 story has been corrected to...</td>\n",
       "      <td>0</td>\n",
       "    </tr>\n",
       "  </tbody>\n",
       "</table>\n",
       "</div>"
      ],
      "text/plain": [
       "                                                 title  \\\n",
       "530  Exclusive: Trump names career diplomat to head...   \n",
       "531  Exclusive: Trump names career diplomat to head...   \n",
       "\n",
       "                                                  text  label  \n",
       "530   ((This December 4 story has been corrected to...      0  \n",
       "531   ((This December 4 story has been corrected to...      0  "
      ]
     },
     "execution_count": 14,
     "metadata": {},
     "output_type": "execute_result"
    }
   ],
   "source": [
    "df[df[\"title\"]==\"Exclusive: Trump names career diplomat to head Cuban embassy - sources\"]"
   ]
  },
  {
   "cell_type": "code",
   "execution_count": 15,
   "id": "1c4c1800",
   "metadata": {},
   "outputs": [
    {
     "name": "stdout",
     "output_type": "stream",
     "text": [
      " ((This December 4 story has been corrected to change  last year  to 2015 in sixth paragraph, June to July in 11th paragraph)) By Marc Frank HAVANA (Reuters) - The Trump administration has named career diplomat Philip Goldberg to head the all-but-abandoned U.S. embassy in Havana, according to three sources familiar with the matter, at a time of heightened tensions between the United States and Cuba. Goldberg has lengthy experience in a number of countries, and was described by a U.S. congressional aide on Monday as  career and the best of the best . But his appointment may ruffle feathers in Havana. He was expelled from Cuba s socialist ally Bolivia in 2008 for what President Evo Morales claimed was fomenting social unrest. The appointment has not been publicly announced. If approved by Cuba, Goldberg will arrive at a low moment in bilateral relations. The embassy was reopened in 2015 for the first time since 1961, as part of a fragile detente by former Democratic U.S. president Barack Obama. But the administration of Republican President Donald Trump has returned to Cold War characterizations of the Cuban government and imposed new restrictions on doing business in Cuba and travel. It has charged Cuba with responsibility for health problems affecting some two dozen diplomats or their family members, which it has termed attacks. Cuba denies the charges.  The U.S. embassy has been reduced to a skeleton staff and has suspended almost all visa processing after the Trump administration in October pulled 60 percent of embassy personnel and ordered a similar reduction at the Cuban embassy in Washington, expelling 15 diplomats. The position is not an ambassador role and does not need to be approved by the U.S. Congress. There has been no ambassador since the embassy re-opened, after the Republican-controlled Senate opposed Obama s pick. Instead, Goldberg will take over from Jeffrey DeLaurentis, who left in July, as Charge d Affaires. Goldberg s other previous posts include the chief of mission in Kosovo. Most recently he has been the U.S. ambassador to the Philippines.  Appointing Ambassador Goldberg to head the U.S. Embassy in Cuba is rather provocative since he was expelled from Bolivia,   American University professor of government William LeoGrande, a Cuba expert, said.  But Ambassador Goldberg is a Foreign Service professional and will ably represent the policies of Trump s administration. Time will tell if he has been instructed to follow in the footsteps of his predecessor ... or carry out a more hostile policy,  he said. The embassy was closed in 1961 when the United States broke diplomatic relations. The countries maintained lower level interests sections in each other s capitals from 1977 to 2015, under the auspices of Switzerland. \n",
      "------------\n",
      " ((This December 4 story has been corrected to change “last year” to 2015 in sixth paragraph, June to July in 11th paragraph)) By Marc Frank HAVANA (Reuters) - The Trump administration has named career diplomat Philip Goldberg to head the all-but-abandoned U.S. embassy in Havana, according to three sources familiar with the matter, at a time of heightened tensions between the United States and Cuba. Goldberg has lengthy experience in a number of countries, and was described by a U.S. congressional aide on Monday as “career and the best of the best”. But his appointment may ruffle feathers in Havana. He was expelled from Cuba’s socialist ally Bolivia in 2008 for what President Evo Morales claimed was fomenting social unrest. The appointment has not been publicly announced. If approved by Cuba, Goldberg will arrive at a low moment in bilateral relations. The embassy was reopened in 2015 for the first time since 1961, as part of a fragile detente by former Democratic U.S. president Barack Obama. But the administration of Republican President Donald Trump has returned to Cold War characterizations of the Cuban government and imposed new restrictions on doing business in Cuba and travel. It has charged Cuba with responsibility for health problems affecting some two dozen diplomats or their family members, which it has termed attacks. Cuba denies the charges.  The U.S. embassy has been reduced to a skeleton staff and has suspended almost all visa processing after the Trump administration in October pulled 60 percent of embassy personnel and ordered a similar reduction at the Cuban embassy in Washington, expelling 15 diplomats. The position is not an ambassador role and does not need to be approved by the U.S. Congress. There has been no ambassador since the embassy re-opened, after the Republican-controlled Senate opposed Obama’s pick. Instead, Goldberg will take over from Jeffrey DeLaurentis, who left in July, as Charge d’Affaires. Goldberg’s other previous posts include the chief of mission in Kosovo. Most recently he has been the U.S. ambassador to the Philippines. “Appointing Ambassador Goldberg to head the U.S. Embassy in Cuba is rather provocative since he was expelled from Bolivia,”  American University professor of government William LeoGrande, a Cuba expert, said. “But Ambassador Goldberg is a Foreign Service professional and will ably represent the policies of Trump’s administration. Time will tell if he has been instructed to follow in the footsteps of his predecessor ... or carry out a more hostile policy,” he said. The embassy was closed in 1961 when the United States broke diplomatic relations. The countries maintained lower level interests sections in each other’s capitals from 1977 to 2015, under the auspices of Switzerland. \n"
     ]
    }
   ],
   "source": [
    "# Check the “text” values for duplicated titles\n",
    "dup_title_530 = df[df[\"title\"]==\"Exclusive: Trump names career diplomat to head Cuban embassy - sources\"]\n",
    "print(dup_title_530.at[530, \"text\"])\n",
    "print(\"------------\")\n",
    "print(dup_title_530.at[531, \"text\"])"
   ]
  },
  {
   "cell_type": "markdown",
   "id": "99e1b336",
   "metadata": {},
   "source": [
    "🔍 **Observation**\n",
    "- Subtle differences—such as extra whitespace and varying punctuation—prevent the two text strings from being exactly identical."
   ]
  },
  {
   "cell_type": "markdown",
   "id": "f46332f8",
   "metadata": {},
   "source": [
    "### *Another example of \"title\" duplicate*:"
   ]
  },
  {
   "cell_type": "code",
   "execution_count": 16,
   "id": "b2e2d49a",
   "metadata": {},
   "outputs": [
    {
     "data": {
      "text/plain": [
       "'Prof Michel Chossudovsky discusses Hillary Clinton’s foreign policy & emerging nuclear risks'"
      ]
     },
     "execution_count": 16,
     "metadata": {},
     "output_type": "execute_result"
    }
   ],
   "source": [
    "sample_title_dups[\"title\"].iloc[3]"
   ]
  },
  {
   "cell_type": "code",
   "execution_count": 17,
   "id": "1909d376",
   "metadata": {},
   "outputs": [
    {
     "data": {
      "text/html": [
       "<div>\n",
       "<style scoped>\n",
       "    .dataframe tbody tr th:only-of-type {\n",
       "        vertical-align: middle;\n",
       "    }\n",
       "\n",
       "    .dataframe tbody tr th {\n",
       "        vertical-align: top;\n",
       "    }\n",
       "\n",
       "    .dataframe thead th {\n",
       "        text-align: right;\n",
       "    }\n",
       "</style>\n",
       "<table border=\"1\" class=\"dataframe\">\n",
       "  <thead>\n",
       "    <tr style=\"text-align: right;\">\n",
       "      <th></th>\n",
       "      <th>title</th>\n",
       "      <th>text</th>\n",
       "      <th>label</th>\n",
       "    </tr>\n",
       "  </thead>\n",
       "  <tbody>\n",
       "    <tr>\n",
       "      <th>688</th>\n",
       "      <td>Prof Michel Chossudovsky discusses Hillary Cli...</td>\n",
       "      <td>21st Century Wire says Amid great mainstream ...</td>\n",
       "      <td>1</td>\n",
       "    </tr>\n",
       "    <tr>\n",
       "      <th>707</th>\n",
       "      <td>Prof Michel Chossudovsky discusses Hillary Cli...</td>\n",
       "      <td>21st Century Wire says…  Amid great mainstrea...</td>\n",
       "      <td>1</td>\n",
       "    </tr>\n",
       "  </tbody>\n",
       "</table>\n",
       "</div>"
      ],
      "text/plain": [
       "                                                 title  \\\n",
       "688  Prof Michel Chossudovsky discusses Hillary Cli...   \n",
       "707  Prof Michel Chossudovsky discusses Hillary Cli...   \n",
       "\n",
       "                                                  text  label  \n",
       "688   21st Century Wire says Amid great mainstream ...      1  \n",
       "707   21st Century Wire says…  Amid great mainstrea...      1  "
      ]
     },
     "execution_count": 17,
     "metadata": {},
     "output_type": "execute_result"
    }
   ],
   "source": [
    "df[df[\"title\"]==\"Prof Michel Chossudovsky discusses Hillary Clinton’s foreign policy & emerging nuclear risks\"]"
   ]
  },
  {
   "cell_type": "code",
   "execution_count": 18,
   "id": "346fc789",
   "metadata": {},
   "outputs": [
    {
     "name": "stdout",
     "output_type": "stream",
     "text": [
      " 21st Century Wire says Amid great mainstream media and Democratic Party fanfare, Hillary Clinton s candidacy has been based on a claim she is  most experienced  candidate in history, and highlighting her foreign policy record in particular. What would a Clinton foreign policy really look like? On Episode #158 of the SUNDAY WIRE, host Patrick Henningsen spoke with a special guest, Professor Michel Chossudovsky, founder & editor of www.globalresearch.ca about  Hillary s hawks  and what a Clinton presidency will look like in terms of US-backed wars around the globe, as well as Washington s current fetish with  sustainable  nuclear conflicts.Listen to this excellent discussion:[soundcloud url= https://api.soundcloud.com/tracks/291631622  params= auto_play=false&hide_related=false&show_comments=true&show_user=true&show_reposts=false&visual=true  width= 100%  height= 450  iframe= true  /] . See more of Michel s recent book,  The Globalization of War: America s Long War Against Humanity. READ MORE ELECTION NEWS AT: 21st Century Wire 2016 FilesSUPPORT 21WIRE   SUBSCRIBE & BECOME A MEMBER @21WIRE.TV\n",
      "------------\n",
      " 21st Century Wire says…  Amid great mainstream media and Democratic Party fanfare, Hillary Clinton’s candidacy has been based on a claim she is “most experienced” candidate in history, and highlighting her foreign policy record in particular. What would a Clinton foreign policy really look like?  On Episode #158 of the SUNDAY WIRE, host Patrick Henningsen spoke with a special guest, Professor Michel Chossudovsky , founder & editor of www.globalresearch.ca about ‘Hillary’s hawks’ and what a Clinton presidency will look like in terms of US-backed wars around the globe, as well as Washington’s current fetish with ‘sustainable’ nuclear conflicts.  Listen to this excellent discussion:  .  READ MORE ELECTION NEWS AT: 21st Century Wire 2016 Files  SUPPORT 21WIRE – SUBSCRIBE & BECOME A MEMBER @21WIRE.TV \n"
     ]
    }
   ],
   "source": [
    "# Check the “text” values for duplicated titles\n",
    "dup_title_688 = df[df[\"title\"]==\"Prof Michel Chossudovsky discusses Hillary Clinton’s foreign policy & emerging nuclear risks\"]\n",
    "print(dup_title_688.at[688, \"text\"])\n",
    "print(\"------------\")\n",
    "print(dup_title_688.at[707, \"text\"])"
   ]
  },
  {
   "cell_type": "markdown",
   "id": "e6c44d21",
   "metadata": {},
   "source": [
    "🔍 **Observation**\n",
    "- The text values for duplicated titles are very similar and refer to the same article."
   ]
  },
  {
   "cell_type": "markdown",
   "id": "1c0c6db3",
   "metadata": {},
   "source": [
    "## ✂️Remove Duplicates Based on `title` by Keeping the Longest `text`\n",
    "> For each duplicated title, keep the row whose `text` is the most **informative**."
   ]
  },
  {
   "cell_type": "code",
   "execution_count": 19,
   "id": "35660a47",
   "metadata": {},
   "outputs": [
    {
     "name": "stdout",
     "output_type": "stream",
     "text": [
      "Rows after keeping longest text per duplicate title: 59144\n"
     ]
    }
   ],
   "source": [
    "# Compute the length of each text\n",
    "text_lengths = df[\"text\"].str.len()\n",
    "\n",
    "# For each unique title, find the index of the row whose text is longest\n",
    "longest_per_title = text_lengths.groupby(df[\"title\"]).idxmax()\n",
    "\n",
    "# Select and reset index\n",
    "df = df.loc[longest_per_title].reset_index(drop=True)\n",
    "\n",
    "print(f\"Rows after keeping longest text per duplicate title: {df.shape[0]}\")"
   ]
  },
  {
   "cell_type": "code",
   "execution_count": 20,
   "id": "c013b2b7",
   "metadata": {},
   "outputs": [],
   "source": [
    "assert df.shape[0] == df[\"title\"].nunique()"
   ]
  },
  {
   "cell_type": "code",
   "execution_count": 21,
   "id": "cbf714b5",
   "metadata": {},
   "outputs": [
    {
     "data": {
      "text/plain": [
       "label\n",
       "0    33318\n",
       "1    25826\n",
       "Name: count, dtype: int64"
      ]
     },
     "execution_count": 21,
     "metadata": {},
     "output_type": "execute_result"
    }
   ],
   "source": [
    "df[\"label\"].value_counts()\n",
    "# 0 = fake, 1 = real"
   ]
  },
  {
   "cell_type": "code",
   "execution_count": null,
   "id": "a499b5a5",
   "metadata": {},
   "outputs": [],
   "source": []
  },
  {
   "cell_type": "markdown",
   "id": "6c5e461a",
   "metadata": {},
   "source": [
    "## Combine `title` with `text` to create a new column `content` "
   ]
  },
  {
   "cell_type": "code",
   "execution_count": 22,
   "id": "8efd9052",
   "metadata": {},
   "outputs": [],
   "source": [
    "# Create the \"content\" column by combining \"title\" and \"text\"\n",
    "df[\"content\"] = df[\"title\"] + \" \" + df[\"text\"]\n",
    "\n",
    "# Reorder the columns\n",
    "desired_column_order = [\"title\", \"text\", \"content\", \"label\"]\n",
    "df = df[desired_column_order]"
   ]
  },
  {
   "cell_type": "code",
   "execution_count": 23,
   "id": "b663de75",
   "metadata": {},
   "outputs": [
    {
     "data": {
      "text/html": [
       "<div>\n",
       "<style scoped>\n",
       "    .dataframe tbody tr th:only-of-type {\n",
       "        vertical-align: middle;\n",
       "    }\n",
       "\n",
       "    .dataframe tbody tr th {\n",
       "        vertical-align: top;\n",
       "    }\n",
       "\n",
       "    .dataframe thead th {\n",
       "        text-align: right;\n",
       "    }\n",
       "</style>\n",
       "<table border=\"1\" class=\"dataframe\">\n",
       "  <thead>\n",
       "    <tr style=\"text-align: right;\">\n",
       "      <th></th>\n",
       "      <th>title</th>\n",
       "      <th>text</th>\n",
       "      <th>content</th>\n",
       "      <th>label</th>\n",
       "    </tr>\n",
       "  </thead>\n",
       "  <tbody>\n",
       "    <tr>\n",
       "      <th>0</th>\n",
       "      <td>\"Allahu Akbar, the Russians are here!\": Aleppo...</td>\n",
       "      <td>November 7, 2016 - Fort Russ News -  RusVesna ...</td>\n",
       "      <td>\"Allahu Akbar, the Russians are here!\": Aleppo...</td>\n",
       "      <td>1</td>\n",
       "    </tr>\n",
       "    <tr>\n",
       "      <th>1</th>\n",
       "      <td>\"America has a simple ideology\": how one of Ru...</td>\n",
       "      <td>The United States comes up constantly when you...</td>\n",
       "      <td>\"America has a simple ideology\": how one of Ru...</td>\n",
       "      <td>0</td>\n",
       "    </tr>\n",
       "    <tr>\n",
       "      <th>2</th>\n",
       "      <td>\"Authoritarianism\": How the West demonizes str...</td>\n",
       "      <td>November 22, 2016 -  Deena Stryker, Katehon - ...</td>\n",
       "      <td>\"Authoritarianism\": How the West demonizes str...</td>\n",
       "      <td>1</td>\n",
       "    </tr>\n",
       "    <tr>\n",
       "      <th>3</th>\n",
       "      <td>\"Blue Alerts\" to be used to keep the 'War on C...</td>\n",
       "      <td>\"Blue Alerts\" to be used to keep the 'War on C...</td>\n",
       "      <td>\"Blue Alerts\" to be used to keep the 'War on C...</td>\n",
       "      <td>1</td>\n",
       "    </tr>\n",
       "    <tr>\n",
       "      <th>4</th>\n",
       "      <td>\"CANADA READY TO RECEIVE 250</td>\n",
       "      <td>Ottawa | Prime Minister Justin Trudeau is gett...</td>\n",
       "      <td>\"CANADA READY TO RECEIVE 250 Ottawa | Prime Mi...</td>\n",
       "      <td>1</td>\n",
       "    </tr>\n",
       "    <tr>\n",
       "      <th>...</th>\n",
       "      <td>...</td>\n",
       "      <td>...</td>\n",
       "      <td>...</td>\n",
       "      <td>...</td>\n",
       "    </tr>\n",
       "    <tr>\n",
       "      <th>59139</th>\n",
       "      <td>“You Ruined Your Own Communities, Don’t Ruin O...</td>\n",
       "      <td>- &lt; “You Ruined Your Own Communities, Don’t Ru...</td>\n",
       "      <td>“You Ruined Your Own Communities, Don’t Ruin O...</td>\n",
       "      <td>1</td>\n",
       "    </tr>\n",
       "    <tr>\n",
       "      <th>59140</th>\n",
       "      <td>“Your little brother is not the ultimate autho...</td>\n",
       "      <td>Anyone old enough to remember that election ni...</td>\n",
       "      <td>“Your little brother is not the ultimate autho...</td>\n",
       "      <td>0</td>\n",
       "    </tr>\n",
       "    <tr>\n",
       "      <th>59141</th>\n",
       "      <td>“You’re Not Alone – We’re With You” – Video Ai...</td>\n",
       "      <td>We understand that what happened on Tuesday is...</td>\n",
       "      <td>“You’re Not Alone – We’re With You” – Video Ai...</td>\n",
       "      <td>1</td>\n",
       "    </tr>\n",
       "    <tr>\n",
       "      <th>59142</th>\n",
       "      <td>“You’re Not Welcome!” Obama As Welcome At Rose...</td>\n",
       "      <td>Roseberg residents and families of victims are...</td>\n",
       "      <td>“You’re Not Welcome!” Obama As Welcome At Rose...</td>\n",
       "      <td>1</td>\n",
       "    </tr>\n",
       "    <tr>\n",
       "      <th>59143</th>\n",
       "      <td>🚨Bill Clinton and Hillary Lolita Express Pedop...</td>\n",
       "      <td>🚨Bill Clinton and Hillary Lolita Express Pedop...</td>\n",
       "      <td>🚨Bill Clinton and Hillary Lolita Express Pedop...</td>\n",
       "      <td>1</td>\n",
       "    </tr>\n",
       "  </tbody>\n",
       "</table>\n",
       "<p>59144 rows × 4 columns</p>\n",
       "</div>"
      ],
      "text/plain": [
       "                                                   title  \\\n",
       "0      \"Allahu Akbar, the Russians are here!\": Aleppo...   \n",
       "1      \"America has a simple ideology\": how one of Ru...   \n",
       "2      \"Authoritarianism\": How the West demonizes str...   \n",
       "3      \"Blue Alerts\" to be used to keep the 'War on C...   \n",
       "4                           \"CANADA READY TO RECEIVE 250   \n",
       "...                                                  ...   \n",
       "59139  “You Ruined Your Own Communities, Don’t Ruin O...   \n",
       "59140  “Your little brother is not the ultimate autho...   \n",
       "59141  “You’re Not Alone – We’re With You” – Video Ai...   \n",
       "59142  “You’re Not Welcome!” Obama As Welcome At Rose...   \n",
       "59143  🚨Bill Clinton and Hillary Lolita Express Pedop...   \n",
       "\n",
       "                                                    text  \\\n",
       "0      November 7, 2016 - Fort Russ News -  RusVesna ...   \n",
       "1      The United States comes up constantly when you...   \n",
       "2      November 22, 2016 -  Deena Stryker, Katehon - ...   \n",
       "3      \"Blue Alerts\" to be used to keep the 'War on C...   \n",
       "4      Ottawa | Prime Minister Justin Trudeau is gett...   \n",
       "...                                                  ...   \n",
       "59139  - < “You Ruined Your Own Communities, Don’t Ru...   \n",
       "59140  Anyone old enough to remember that election ni...   \n",
       "59141  We understand that what happened on Tuesday is...   \n",
       "59142  Roseberg residents and families of victims are...   \n",
       "59143  🚨Bill Clinton and Hillary Lolita Express Pedop...   \n",
       "\n",
       "                                                 content  label  \n",
       "0      \"Allahu Akbar, the Russians are here!\": Aleppo...      1  \n",
       "1      \"America has a simple ideology\": how one of Ru...      0  \n",
       "2      \"Authoritarianism\": How the West demonizes str...      1  \n",
       "3      \"Blue Alerts\" to be used to keep the 'War on C...      1  \n",
       "4      \"CANADA READY TO RECEIVE 250 Ottawa | Prime Mi...      1  \n",
       "...                                                  ...    ...  \n",
       "59139  “You Ruined Your Own Communities, Don’t Ruin O...      1  \n",
       "59140  “Your little brother is not the ultimate autho...      0  \n",
       "59141  “You’re Not Alone – We’re With You” – Video Ai...      1  \n",
       "59142  “You’re Not Welcome!” Obama As Welcome At Rose...      1  \n",
       "59143  🚨Bill Clinton and Hillary Lolita Express Pedop...      1  \n",
       "\n",
       "[59144 rows x 4 columns]"
      ]
     },
     "execution_count": 23,
     "metadata": {},
     "output_type": "execute_result"
    }
   ],
   "source": [
    "df"
   ]
  },
  {
   "cell_type": "markdown",
   "id": "e1b2c8d7",
   "metadata": {},
   "source": [
    "## Export Cleaned Dataset\n",
    "Keeps only English rows, removes duplicates, and adds a combined “content” column."
   ]
  },
  {
   "cell_type": "code",
   "execution_count": 24,
   "id": "0bdd8c43",
   "metadata": {},
   "outputs": [],
   "source": [
    "df.to_csv(\"WELFake_Cleaned.csv\", index=False)"
   ]
  },
  {
   "cell_type": "code",
   "execution_count": null,
   "id": "bfc620bd",
   "metadata": {},
   "outputs": [],
   "source": []
  }
 ],
 "metadata": {
  "kernelspec": {
   "display_name": "Python 3 (ipykernel)",
   "language": "python",
   "name": "python3"
  },
  "language_info": {
   "codemirror_mode": {
    "name": "ipython",
    "version": 3
   },
   "file_extension": ".py",
   "mimetype": "text/x-python",
   "name": "python",
   "nbconvert_exporter": "python",
   "pygments_lexer": "ipython3",
   "version": "3.9.18"
  }
 },
 "nbformat": 4,
 "nbformat_minor": 5
}
