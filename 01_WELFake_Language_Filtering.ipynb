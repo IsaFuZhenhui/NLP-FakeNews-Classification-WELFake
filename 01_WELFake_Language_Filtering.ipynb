{
 "cells": [
  {
   "cell_type": "markdown",
   "id": "356a1351",
   "metadata": {},
   "source": [
    "# 01 Language Filtering\n",
    "**Author:** Fu Zhenhui  \n",
    "**Dataset:** [WELFake Dataset](https://www.kaggle.com/datasets/saurabhshahane/fake-news-classification)  \n",
    "**Output:** WELFake_EnglishOnly.csv  \n",
    "**Last updated:** June 2025"
   ]
  },
  {
   "cell_type": "code",
   "execution_count": 17,
   "id": "af5fcb78",
   "metadata": {},
   "outputs": [],
   "source": [
    "import pandas as pd\n",
    "from langdetect import detect\n",
    "import time"
   ]
  },
  {
   "cell_type": "markdown",
   "id": "5d30823e",
   "metadata": {},
   "source": [
    "## Load Dataset"
   ]
  },
  {
   "cell_type": "code",
   "execution_count": 18,
   "id": "b75afcb3",
   "metadata": {},
   "outputs": [
    {
     "data": {
      "text/html": [
       "<div>\n",
       "<style scoped>\n",
       "    .dataframe tbody tr th:only-of-type {\n",
       "        vertical-align: middle;\n",
       "    }\n",
       "\n",
       "    .dataframe tbody tr th {\n",
       "        vertical-align: top;\n",
       "    }\n",
       "\n",
       "    .dataframe thead th {\n",
       "        text-align: right;\n",
       "    }\n",
       "</style>\n",
       "<table border=\"1\" class=\"dataframe\">\n",
       "  <thead>\n",
       "    <tr style=\"text-align: right;\">\n",
       "      <th></th>\n",
       "      <th>title</th>\n",
       "      <th>text</th>\n",
       "      <th>label</th>\n",
       "    </tr>\n",
       "  </thead>\n",
       "  <tbody>\n",
       "    <tr>\n",
       "      <th>0</th>\n",
       "      <td>LAW ENFORCEMENT ON HIGH ALERT Following Threat...</td>\n",
       "      <td>No comment is expected from Barack Obama Membe...</td>\n",
       "      <td>1</td>\n",
       "    </tr>\n",
       "    <tr>\n",
       "      <th>1</th>\n",
       "      <td>NaN</td>\n",
       "      <td>Did they post their votes for Hillary already?</td>\n",
       "      <td>1</td>\n",
       "    </tr>\n",
       "    <tr>\n",
       "      <th>2</th>\n",
       "      <td>UNBELIEVABLE! OBAMA’S ATTORNEY GENERAL SAYS MO...</td>\n",
       "      <td>Now, most of the demonstrators gathered last ...</td>\n",
       "      <td>1</td>\n",
       "    </tr>\n",
       "    <tr>\n",
       "      <th>3</th>\n",
       "      <td>Bobby Jindal, raised Hindu, uses story of Chri...</td>\n",
       "      <td>A dozen politically active pastors came here f...</td>\n",
       "      <td>0</td>\n",
       "    </tr>\n",
       "    <tr>\n",
       "      <th>4</th>\n",
       "      <td>SATAN 2: Russia unvelis an image of its terrif...</td>\n",
       "      <td>The RS-28 Sarmat missile, dubbed Satan 2, will...</td>\n",
       "      <td>1</td>\n",
       "    </tr>\n",
       "    <tr>\n",
       "      <th>...</th>\n",
       "      <td>...</td>\n",
       "      <td>...</td>\n",
       "      <td>...</td>\n",
       "    </tr>\n",
       "    <tr>\n",
       "      <th>72129</th>\n",
       "      <td>Russians steal research on Trump in hack of U....</td>\n",
       "      <td>WASHINGTON (Reuters) - Hackers believed to be ...</td>\n",
       "      <td>0</td>\n",
       "    </tr>\n",
       "    <tr>\n",
       "      <th>72130</th>\n",
       "      <td>WATCH: Giuliani Demands That Democrats Apolog...</td>\n",
       "      <td>You know, because in fantasyland Republicans n...</td>\n",
       "      <td>1</td>\n",
       "    </tr>\n",
       "    <tr>\n",
       "      <th>72131</th>\n",
       "      <td>Migrants Refuse To Leave Train At Refugee Camp...</td>\n",
       "      <td>Migrants Refuse To Leave Train At Refugee Camp...</td>\n",
       "      <td>0</td>\n",
       "    </tr>\n",
       "    <tr>\n",
       "      <th>72132</th>\n",
       "      <td>Trump tussle gives unpopular Mexican leader mu...</td>\n",
       "      <td>MEXICO CITY (Reuters) - Donald Trump’s combati...</td>\n",
       "      <td>0</td>\n",
       "    </tr>\n",
       "    <tr>\n",
       "      <th>72133</th>\n",
       "      <td>Goldman Sachs Endorses Hillary Clinton For Pre...</td>\n",
       "      <td>Goldman Sachs Endorses Hillary Clinton For Pre...</td>\n",
       "      <td>1</td>\n",
       "    </tr>\n",
       "  </tbody>\n",
       "</table>\n",
       "<p>72134 rows × 3 columns</p>\n",
       "</div>"
      ],
      "text/plain": [
       "                                                   title  \\\n",
       "0      LAW ENFORCEMENT ON HIGH ALERT Following Threat...   \n",
       "1                                                    NaN   \n",
       "2      UNBELIEVABLE! OBAMA’S ATTORNEY GENERAL SAYS MO...   \n",
       "3      Bobby Jindal, raised Hindu, uses story of Chri...   \n",
       "4      SATAN 2: Russia unvelis an image of its terrif...   \n",
       "...                                                  ...   \n",
       "72129  Russians steal research on Trump in hack of U....   \n",
       "72130   WATCH: Giuliani Demands That Democrats Apolog...   \n",
       "72131  Migrants Refuse To Leave Train At Refugee Camp...   \n",
       "72132  Trump tussle gives unpopular Mexican leader mu...   \n",
       "72133  Goldman Sachs Endorses Hillary Clinton For Pre...   \n",
       "\n",
       "                                                    text  label  \n",
       "0      No comment is expected from Barack Obama Membe...      1  \n",
       "1         Did they post their votes for Hillary already?      1  \n",
       "2       Now, most of the demonstrators gathered last ...      1  \n",
       "3      A dozen politically active pastors came here f...      0  \n",
       "4      The RS-28 Sarmat missile, dubbed Satan 2, will...      1  \n",
       "...                                                  ...    ...  \n",
       "72129  WASHINGTON (Reuters) - Hackers believed to be ...      0  \n",
       "72130  You know, because in fantasyland Republicans n...      1  \n",
       "72131  Migrants Refuse To Leave Train At Refugee Camp...      0  \n",
       "72132  MEXICO CITY (Reuters) - Donald Trump’s combati...      0  \n",
       "72133  Goldman Sachs Endorses Hillary Clinton For Pre...      1  \n",
       "\n",
       "[72134 rows x 3 columns]"
      ]
     },
     "execution_count": 18,
     "metadata": {},
     "output_type": "execute_result"
    }
   ],
   "source": [
    "# Using `index_col=0` avoids the `\"Unnamed: 0\"` column from auto-indexing.\n",
    "df = pd.read_csv(\"WELFake_Dataset.csv\", index_col=0)\n",
    "df"
   ]
  },
  {
   "cell_type": "markdown",
   "id": "a58cef10",
   "metadata": {},
   "source": [
    "### 🔍 Observation\n",
    "- The dataset has 72,134 rows with 3 columns: `title`, `text`, and `label`.\n",
    "- Some entries in `title` or `text` are missing (`NaN`).\n",
    "- The dataset contains a mix of English and non-English textual content."
   ]
  },
  {
   "cell_type": "markdown",
   "id": "d706e1e3",
   "metadata": {},
   "source": [
    "## Clean Line Breaks and Handle Missing Values"
   ]
  },
  {
   "cell_type": "code",
   "execution_count": 19,
   "id": "1b520bb7",
   "metadata": {},
   "outputs": [],
   "source": [
    "# Remove line breaks '\\n' to prevent a single DataFrame row from being split across multiple lines in the exported CSV file\n",
    "df[\"title\"] = df[\"title\"].str.replace(\"\\n\", \" \")\n",
    "df[\"text\"] = df[\"text\"].str.replace(\"\\n\", \" \")"
   ]
  },
  {
   "cell_type": "code",
   "execution_count": 20,
   "id": "2df30f6d",
   "metadata": {},
   "outputs": [
    {
     "name": "stdout",
     "output_type": "stream",
     "text": [
      "Rows missing only title: 558\n",
      "Rows missing only text: 39\n",
      "Rows missing both: 0\n"
     ]
    }
   ],
   "source": [
    "# Check missing value patterns\n",
    "only_title_missing = df[\"title\"].isna() & df[\"text\"].notna()\n",
    "only_text_missing = df[\"text\"].isna() & df[\"title\"].notna()\n",
    "both_missing = df[\"title\"].isna() & df[\"text\"].isna()\n",
    "\n",
    "print(f\"Rows missing only title: {only_title_missing.sum()}\")\n",
    "print(f\"Rows missing only text: {only_text_missing.sum()}\")\n",
    "print(f\"Rows missing both: {both_missing.sum()}\")"
   ]
  },
  {
   "cell_type": "code",
   "execution_count": 21,
   "id": "0a04c224",
   "metadata": {},
   "outputs": [
    {
     "name": "stdout",
     "output_type": "stream",
     "text": [
      "Rows after dropping rows with missing values: 71537\n"
     ]
    }
   ],
   "source": [
    "# No rows are missing both title and text; only a few are missing one — safe to remove\n",
    "df = df.dropna(subset=[\"title\", \"text\"])\n",
    "print(f\"Rows after dropping rows with missing values: {df.shape[0]}\")"
   ]
  },
  {
   "cell_type": "markdown",
   "id": "400bfc84",
   "metadata": {},
   "source": [
    "## Filter for English Content Using `langdetect`\n",
    "- `langdetect` is a lightweight and fast Python library for language detection. It provides reasonably accurate results.\n",
    "- We retain rows where both `title` and `text` are detected as English (`'en'`)."
   ]
  },
  {
   "cell_type": "markdown",
   "id": "27747921",
   "metadata": {},
   "source": [
    "<span style=\"color:red; font-weight:bold\">⚠️ This cell takes a long time to run. Run it only once, and reuse the saved file next time.</span>"
   ]
  },
  {
   "cell_type": "code",
   "execution_count": 20,
   "id": "5f7db7a0",
   "metadata": {},
   "outputs": [
    {
     "name": "stdout",
     "output_type": "stream",
     "text": [
      "Time taken for language filtering: 2179.73 seconds.\n",
      "Remaining rows after language filtering: (68072, 3)\n"
     ]
    }
   ],
   "source": [
    "def is_english(text):\n",
    "    try:\n",
    "        return detect(text) == \"en\"\n",
    "    except:\n",
    "        return False\n",
    "\n",
    "start_time = time.time()\n",
    "\n",
    "# Keep only rows where both title and text are English\n",
    "df_english = df[df[\"title\"].apply(is_english) & df[\"text\"].apply(is_english)]\n",
    "\n",
    "end_time = time.time()\n",
    "\n",
    "print(f\"Time taken for language filtering: {end_time - start_time:.2f} seconds.\")\n",
    "print(f\"Remaining rows after language filtering: {df_english.shape}\")"
   ]
  },
  {
   "cell_type": "markdown",
   "id": "1a4cd4b0",
   "metadata": {},
   "source": [
    "## Export English-Only Dataset\n",
    "This avoids rerunning the expensive language detection process."
   ]
  },
  {
   "cell_type": "code",
   "execution_count": 22,
   "id": "117efad8",
   "metadata": {},
   "outputs": [],
   "source": [
    "df_english.to_csv(\"WELFake_EnglishOnly.csv\", index=False)"
   ]
  },
  {
   "cell_type": "code",
   "execution_count": null,
   "id": "dfe5d5eb",
   "metadata": {},
   "outputs": [],
   "source": []
  }
 ],
 "metadata": {
  "kernelspec": {
   "display_name": "Python 3 (ipykernel)",
   "language": "python",
   "name": "python3"
  },
  "language_info": {
   "codemirror_mode": {
    "name": "ipython",
    "version": 3
   },
   "file_extension": ".py",
   "mimetype": "text/x-python",
   "name": "python",
   "nbconvert_exporter": "python",
   "pygments_lexer": "ipython3",
   "version": "3.9.18"
  }
 },
 "nbformat": 4,
 "nbformat_minor": 5
}
